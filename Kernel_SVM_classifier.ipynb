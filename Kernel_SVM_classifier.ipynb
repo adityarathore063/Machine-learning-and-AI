{
  "nbformat": 4,
  "nbformat_minor": 0,
  "metadata": {
    "colab": {
      "provenance": [],
      "authorship_tag": "ABX9TyOEzgUo5dXy6zGWelmOt6x3",
      "include_colab_link": true
    },
    "kernelspec": {
      "name": "python3",
      "display_name": "Python 3"
    },
    "language_info": {
      "name": "python"
    }
  },
  "cells": [
    {
      "cell_type": "markdown",
      "metadata": {
        "id": "view-in-github",
        "colab_type": "text"
      },
      "source": [
        "<a href=\"https://colab.research.google.com/github/adityarathore063/Machine-learning-and-AI/blob/master/Kernel_SVM_classifier.ipynb\" target=\"_parent\"><img src=\"https://colab.research.google.com/assets/colab-badge.svg\" alt=\"Open In Colab\"/></a>"
      ]
    },
    {
      "cell_type": "code",
      "execution_count": 1,
      "metadata": {
        "id": "ZAe_KH5XLJPk"
      },
      "outputs": [],
      "source": [
        "import numpy as np\n",
        "import pandas as pd\n",
        "import matplotlib.pyplot as plt"
      ]
    },
    {
      "cell_type": "code",
      "source": [
        "dataset = pd.read_csv(\"/content/svm_dataset.csv\")\n",
        "X = dataset.iloc[:,:-1].values\n",
        "y = dataset.iloc[:, -1].values"
      ],
      "metadata": {
        "id": "CrKFpJ3wNXUX"
      },
      "execution_count": 2,
      "outputs": []
    },
    {
      "cell_type": "code",
      "source": [
        "print(X)"
      ],
      "metadata": {
        "colab": {
          "base_uri": "https://localhost:8080/"
        },
        "id": "WXFTUEIeNrLb",
        "outputId": "5ccef9aa-ca4e-4222-c364-8af4d444854e"
      },
      "execution_count": 3,
      "outputs": [
        {
          "output_type": "stream",
          "name": "stdout",
          "text": [
            "[[   15  6334]\n",
            " [   28  6667]\n",
            " [   20 14334]\n",
            " [   21 19000]\n",
            " [   15 25334]\n",
            " [   21 19334]\n",
            " [   21 28000]\n",
            " [   25 50000]\n",
            " [   20 11000]\n",
            " [   28 21667]\n",
            " [   20 26667]\n",
            " [   26 17000]\n",
            " [   28 36000]\n",
            " [   18  6667]\n",
            " [   20 26334]\n",
            " [   21 18000]\n",
            " [   24 45000]\n",
            " [   24 29667]\n",
            " [   19 10667]\n",
            " [   14 14667]\n",
            " [   23 27667]\n",
            " [   28  7667]\n",
            " [   21 19334]\n",
            " [   19 18334]\n",
            " [   18 16000]\n",
            " [   22 26334]\n",
            " [   17  6000]\n",
            " [   25 39000]\n",
            " [   21  6667]\n",
            " [   20 29000]\n",
            " [   18 22000]\n",
            " [   25 40000]\n",
            " [   17 21000]\n",
            " [   24 22667]\n",
            " [   20 26667]\n",
            " [   19  9000]\n",
            " [   16  7667]\n",
            " [   26 37667]\n",
            " [   25  6000]\n",
            " [   27 37334]\n",
            " [   24 38667]\n",
            " [   20  5000]\n",
            " [   23  9334]\n",
            " [   23 27667]\n",
            " [   26 49667]\n",
            " [   15  7000]\n",
            " [   16 24000]\n",
            " [   20 11667]\n",
            " [   21 29667]\n",
            " [   20 28667]\n",
            " [   30 26667]\n",
            " [   31 23667]\n",
            " [   29 23667]\n",
            " [   20 30000]\n",
            " [   29 11000]\n",
            " [   17 18334]\n",
            " [   28 23667]\n",
            " [   23 49334]\n",
            " [   23 15667]\n",
            " [   16 29334]\n",
            " [   27 38334]\n",
            " [   20 39334]\n",
            " [   27 14334]\n",
            " [   27 24000]\n",
            " [   18  9334]\n",
            " [   28 15667]\n",
            " [   20  7334]\n",
            " [   19  7667]\n",
            " [   16 27334]\n",
            " [   26 13667]\n",
            " [   22 10667]\n",
            " [   19 28000]\n",
            " [   15  8667]\n",
            " [   23 14334]\n",
            " [   15 23334]\n",
            " [   22 29667]\n",
            " [   27 14334]\n",
            " [   24 26334]\n",
            " [   16 12000]\n",
            " [   20 26667]\n",
            " [   28  7334]\n",
            " [   28 13000]\n",
            " [   39 24667]\n",
            " [   31 44667]\n",
            " [   32 23667]\n",
            " [   46 33667]\n",
            " [   37 15667]\n",
            " [   44 43334]\n",
            " [   41 38000]\n",
            " [   32 47334]\n",
            " [   36  7334]\n",
            " [   38 32000]\n",
            " [   41 50000]\n",
            " [   28 19334]\n",
            " [   37 14334]\n",
            " [   48 36000]\n",
            " [   39 21667]\n",
            " [   32 26000]\n",
            " [   36 32000]\n",
            " [   47 47667]\n",
            " [   32 26667]\n",
            " [   28 30334]\n",
            " [   29 48000]\n",
            " [   48 34000]\n",
            " [   28 20000]\n",
            " [   29 17667]\n",
            " [   28 42000]\n",
            " [   44 44334]\n",
            " [   32 24000]\n",
            " [   33 26667]\n",
            " [   28 49000]\n",
            " [   31 14000]\n",
            " [   39 28667]\n",
            " [   36 26334]\n",
            " [   29 26667]\n",
            " [   36 27334]\n",
            " [   42 47667]\n",
            " [   33 49667]\n",
            " [   30 19667]\n",
            " [   40 29334]\n",
            " [   44 34667]\n",
            " [   32 24000]\n",
            " [   28 16667]\n",
            " [   45 40667]\n",
            " [   32 17334]\n",
            " [   28 32334]\n",
            " [   35 13000]\n",
            " [   29 17334]\n",
            " [   38 44667]\n",
            " [   29 48667]\n",
            " [   41 30000]\n",
            " [   32 24000]\n",
            " [   32 19000]\n",
            " [   46 31667]\n",
            " [   36 43667]\n",
            " [   28 48000]\n",
            " [   28 24000]\n",
            " [   38 30000]\n",
            " [   33 36000]\n",
            " [   32 25000]\n",
            " [   37 48000]\n",
            " [   32 20334]\n",
            " [   34 44334]\n",
            " [   47 25334]\n",
            " [   48 14000]\n",
            " [   31 35334]\n",
            " [   45  8667]\n",
            " [   45 24667]\n",
            " [   30 23667]\n",
            " [   39 29334]\n",
            " [   41 12667]\n",
            " [   40 12000]\n",
            " [   47 29334]\n",
            " [   28 20334]\n",
            " [   29 23334]\n",
            " [   41  7000]\n",
            " [   38 47000]\n",
            " [   29 31000]\n",
            " [   29 20667]\n",
            " [   38 46000]\n",
            " [   32 26334]\n",
            " [   29 26000]\n",
            " [   31 44667]\n",
            " [   39 29667]\n",
            " [   44 13000]\n",
            " [   29 25667]\n",
            " [   28 21000]\n",
            " [   33 24334]\n",
            " [   36 39000]\n",
            " [   38 24667]\n",
            " [   29 26334]\n",
            " [   32 20000]\n",
            " [   37 37667]\n",
            " [   30 16667]\n",
            " [   39 47000]\n",
            " [   31 26334]\n",
            " [   31 25000]\n",
            " [   43 34667]\n",
            " [   28 18334]\n",
            " [   36 10667]\n",
            " [   28 20000]\n",
            " [   41 46000]\n",
            " [   42 27334]\n",
            " [   32 17334]\n",
            " [   38 10000]\n",
            " [   38 43667]\n",
            " [   32 24000]\n",
            " [   37 35667]\n",
            " [   30 17000]\n",
            " [   38 39667]\n",
            " [   33 21667]\n",
            " [   32 21667]\n",
            " [   45 20000]\n",
            " [   28 18000]\n",
            " [   28 26334]\n",
            " [   34 43000]\n",
            " [   42 11334]\n",
            " [   37 16667]\n",
            " [   33 26334]]\n"
          ]
        }
      ]
    },
    {
      "cell_type": "code",
      "source": [
        "from sklearn.model_selection import train_test_split\n",
        "X_train, X_test, y_train, y_test = train_test_split(X,y, test_size=0.3, random_state=21)"
      ],
      "metadata": {
        "id": "um5MKPMQNuV1"
      },
      "execution_count": 4,
      "outputs": []
    },
    {
      "cell_type": "code",
      "source": [
        "from sklearn.preprocessing import StandardScaler\n",
        "sc = StandardScaler()\n",
        "X_train = sc.fit_transform(X_train)\n",
        "X_test = sc.transform(X_test)"
      ],
      "metadata": {
        "id": "exDQ7DzXOFDZ"
      },
      "execution_count": 5,
      "outputs": []
    },
    {
      "cell_type": "code",
      "source": [
        "from sklearn.svm import SVC\n",
        "classifier = SVC(kernel = 'rbf', random_state=42)\n",
        "classifier.fit(X_train, y_train)"
      ],
      "metadata": {
        "colab": {
          "base_uri": "https://localhost:8080/",
          "height": 75
        },
        "id": "NKuMgXmnO4Sd",
        "outputId": "76484861-e89f-4205-a13f-6d1d2406f7f1"
      },
      "execution_count": 13,
      "outputs": [
        {
          "output_type": "execute_result",
          "data": {
            "text/plain": [
              "SVC(random_state=42)"
            ],
            "text/html": [
              "<style>#sk-container-id-3 {color: black;background-color: white;}#sk-container-id-3 pre{padding: 0;}#sk-container-id-3 div.sk-toggleable {background-color: white;}#sk-container-id-3 label.sk-toggleable__label {cursor: pointer;display: block;width: 100%;margin-bottom: 0;padding: 0.3em;box-sizing: border-box;text-align: center;}#sk-container-id-3 label.sk-toggleable__label-arrow:before {content: \"▸\";float: left;margin-right: 0.25em;color: #696969;}#sk-container-id-3 label.sk-toggleable__label-arrow:hover:before {color: black;}#sk-container-id-3 div.sk-estimator:hover label.sk-toggleable__label-arrow:before {color: black;}#sk-container-id-3 div.sk-toggleable__content {max-height: 0;max-width: 0;overflow: hidden;text-align: left;background-color: #f0f8ff;}#sk-container-id-3 div.sk-toggleable__content pre {margin: 0.2em;color: black;border-radius: 0.25em;background-color: #f0f8ff;}#sk-container-id-3 input.sk-toggleable__control:checked~div.sk-toggleable__content {max-height: 200px;max-width: 100%;overflow: auto;}#sk-container-id-3 input.sk-toggleable__control:checked~label.sk-toggleable__label-arrow:before {content: \"▾\";}#sk-container-id-3 div.sk-estimator input.sk-toggleable__control:checked~label.sk-toggleable__label {background-color: #d4ebff;}#sk-container-id-3 div.sk-label input.sk-toggleable__control:checked~label.sk-toggleable__label {background-color: #d4ebff;}#sk-container-id-3 input.sk-hidden--visually {border: 0;clip: rect(1px 1px 1px 1px);clip: rect(1px, 1px, 1px, 1px);height: 1px;margin: -1px;overflow: hidden;padding: 0;position: absolute;width: 1px;}#sk-container-id-3 div.sk-estimator {font-family: monospace;background-color: #f0f8ff;border: 1px dotted black;border-radius: 0.25em;box-sizing: border-box;margin-bottom: 0.5em;}#sk-container-id-3 div.sk-estimator:hover {background-color: #d4ebff;}#sk-container-id-3 div.sk-parallel-item::after {content: \"\";width: 100%;border-bottom: 1px solid gray;flex-grow: 1;}#sk-container-id-3 div.sk-label:hover label.sk-toggleable__label {background-color: #d4ebff;}#sk-container-id-3 div.sk-serial::before {content: \"\";position: absolute;border-left: 1px solid gray;box-sizing: border-box;top: 0;bottom: 0;left: 50%;z-index: 0;}#sk-container-id-3 div.sk-serial {display: flex;flex-direction: column;align-items: center;background-color: white;padding-right: 0.2em;padding-left: 0.2em;position: relative;}#sk-container-id-3 div.sk-item {position: relative;z-index: 1;}#sk-container-id-3 div.sk-parallel {display: flex;align-items: stretch;justify-content: center;background-color: white;position: relative;}#sk-container-id-3 div.sk-item::before, #sk-container-id-3 div.sk-parallel-item::before {content: \"\";position: absolute;border-left: 1px solid gray;box-sizing: border-box;top: 0;bottom: 0;left: 50%;z-index: -1;}#sk-container-id-3 div.sk-parallel-item {display: flex;flex-direction: column;z-index: 1;position: relative;background-color: white;}#sk-container-id-3 div.sk-parallel-item:first-child::after {align-self: flex-end;width: 50%;}#sk-container-id-3 div.sk-parallel-item:last-child::after {align-self: flex-start;width: 50%;}#sk-container-id-3 div.sk-parallel-item:only-child::after {width: 0;}#sk-container-id-3 div.sk-dashed-wrapped {border: 1px dashed gray;margin: 0 0.4em 0.5em 0.4em;box-sizing: border-box;padding-bottom: 0.4em;background-color: white;}#sk-container-id-3 div.sk-label label {font-family: monospace;font-weight: bold;display: inline-block;line-height: 1.2em;}#sk-container-id-3 div.sk-label-container {text-align: center;}#sk-container-id-3 div.sk-container {/* jupyter's `normalize.less` sets `[hidden] { display: none; }` but bootstrap.min.css set `[hidden] { display: none !important; }` so we also need the `!important` here to be able to override the default hidden behavior on the sphinx rendered scikit-learn.org. See: https://github.com/scikit-learn/scikit-learn/issues/21755 */display: inline-block !important;position: relative;}#sk-container-id-3 div.sk-text-repr-fallback {display: none;}</style><div id=\"sk-container-id-3\" class=\"sk-top-container\"><div class=\"sk-text-repr-fallback\"><pre>SVC(random_state=42)</pre><b>In a Jupyter environment, please rerun this cell to show the HTML representation or trust the notebook. <br />On GitHub, the HTML representation is unable to render, please try loading this page with nbviewer.org.</b></div><div class=\"sk-container\" hidden><div class=\"sk-item\"><div class=\"sk-estimator sk-toggleable\"><input class=\"sk-toggleable__control sk-hidden--visually\" id=\"sk-estimator-id-3\" type=\"checkbox\" checked><label for=\"sk-estimator-id-3\" class=\"sk-toggleable__label sk-toggleable__label-arrow\">SVC</label><div class=\"sk-toggleable__content\"><pre>SVC(random_state=42)</pre></div></div></div></div></div>"
            ]
          },
          "metadata": {},
          "execution_count": 13
        }
      ]
    },
    {
      "cell_type": "code",
      "source": [
        "print(classifier.predict(sc.transform([[36, 17000]])))"
      ],
      "metadata": {
        "colab": {
          "base_uri": "https://localhost:8080/"
        },
        "id": "mGRQMo6MPNtO",
        "outputId": "1f57e915-e644-4332-d787-6fd816ffa205"
      },
      "execution_count": 14,
      "outputs": [
        {
          "output_type": "stream",
          "name": "stdout",
          "text": [
            "[0]\n"
          ]
        }
      ]
    },
    {
      "cell_type": "code",
      "source": [
        "y_pred = classifier.predict(X_test)\n",
        "print(np.concatenate((y_pred.reshape(len(y_pred),1), y_test.reshape(len(y_test),1)),1))"
      ],
      "metadata": {
        "colab": {
          "base_uri": "https://localhost:8080/"
        },
        "id": "S3w7PmXRPiFz",
        "outputId": "37efb786-ec80-4cea-df2c-a6009fb67007"
      },
      "execution_count": 15,
      "outputs": [
        {
          "output_type": "stream",
          "name": "stdout",
          "text": [
            "[[1 1]\n",
            " [0 0]\n",
            " [0 0]\n",
            " [0 0]\n",
            " [0 0]\n",
            " [0 0]\n",
            " [0 0]\n",
            " [1 1]\n",
            " [1 1]\n",
            " [1 1]\n",
            " [0 0]\n",
            " [0 0]\n",
            " [0 0]\n",
            " [1 1]\n",
            " [1 1]\n",
            " [1 1]\n",
            " [0 0]\n",
            " [1 1]\n",
            " [0 1]\n",
            " [0 0]\n",
            " [0 0]\n",
            " [0 0]\n",
            " [1 0]\n",
            " [0 1]\n",
            " [0 0]\n",
            " [0 0]\n",
            " [1 1]\n",
            " [1 1]\n",
            " [0 0]\n",
            " [0 0]\n",
            " [0 0]\n",
            " [1 1]\n",
            " [1 1]\n",
            " [0 0]\n",
            " [1 1]\n",
            " [1 0]\n",
            " [0 0]\n",
            " [0 1]\n",
            " [1 1]\n",
            " [0 0]\n",
            " [0 0]\n",
            " [0 0]\n",
            " [0 0]\n",
            " [0 0]\n",
            " [1 1]\n",
            " [1 1]\n",
            " [0 0]\n",
            " [0 0]\n",
            " [0 0]\n",
            " [1 1]\n",
            " [0 0]\n",
            " [1 1]\n",
            " [0 0]\n",
            " [1 1]\n",
            " [1 0]\n",
            " [0 0]\n",
            " [0 0]\n",
            " [0 0]\n",
            " [0 0]\n",
            " [1 1]]\n"
          ]
        }
      ]
    },
    {
      "cell_type": "code",
      "source": [
        "from sklearn.metrics import confusion_matrix, accuracy_score\n",
        "cm = confusion_matrix(y_test, y_pred)\n",
        "print(cm)\n",
        "accuracy_score(y_test, y_pred)"
      ],
      "metadata": {
        "colab": {
          "base_uri": "https://localhost:8080/"
        },
        "id": "woG4PodyQEUC",
        "outputId": "4d990e83-387e-492a-e413-837ed4c36de9"
      },
      "execution_count": 16,
      "outputs": [
        {
          "output_type": "stream",
          "name": "stdout",
          "text": [
            "[[34  3]\n",
            " [ 3 20]]\n"
          ]
        },
        {
          "output_type": "execute_result",
          "data": {
            "text/plain": [
              "0.9"
            ]
          },
          "metadata": {},
          "execution_count": 16
        }
      ]
    },
    {
      "cell_type": "code",
      "source": [
        "from matplotlib.colors import ListedColormap\n",
        "X_set, y_set = sc.inverse_transform(X_test), y_test\n",
        "X1, X2 = np.meshgrid(np.arange(start = X_set[:, 0].min() - 0, stop = X_set[:, 0].max() + 3, step = 1),\n",
        "                     np.arange(start = X_set[:, 1].min() - 0, stop = X_set[:, 1].max() + 200, step = 1))\n",
        "plt.contourf(X1, X2, classifier.predict(sc.transform(np.array([X1.ravel(), X2.ravel()]).T)).reshape(X1.shape),\n",
        "             alpha = 0.75, cmap = ListedColormap(('red', 'green')))\n",
        "plt.xlim(X1.min(), X1.max())\n",
        "plt.ylim(X2.min(), X2.max())\n",
        "for i, j in enumerate(np.unique(y_set)):\n",
        "    plt.scatter(X_set[y_set == j, 0], X_set[y_set == j, 1], c = ListedColormap(('red', 'green'))(i), label = j)\n",
        "plt.title('Kernel SVM (Test set)')\n",
        "plt.xlabel('Age')\n",
        "plt.ylabel('Cost of Device')\n",
        "plt.legend()\n",
        "plt.show()"
      ],
      "metadata": {
        "colab": {
          "base_uri": "https://localhost:8080/",
          "height": 527
        },
        "id": "k2gjPeC3QI0a",
        "outputId": "8a0a9a16-1881-42dd-bbcd-83f8f730a9a4"
      },
      "execution_count": 19,
      "outputs": [
        {
          "output_type": "stream",
          "name": "stderr",
          "text": [
            "<ipython-input-19-a746ed1e5169>:10: UserWarning: *c* argument looks like a single numeric RGB or RGBA sequence, which should be avoided as value-mapping will have precedence in case its length matches with *x* & *y*.  Please use the *color* keyword-argument or provide a 2D array with a single row if you intend to specify the same RGB or RGBA value for all points.\n",
            "  plt.scatter(X_set[y_set == j, 0], X_set[y_set == j, 1], c = ListedColormap(('red', 'green'))(i), label = j)\n"
          ]
        },
        {
          "output_type": "display_data",
          "data": {
            "text/plain": [
              "<Figure size 640x480 with 1 Axes>"
            ],
            "image/png": "[encoded data removed]"
          },
          "metadata": {}
        }
      ]
    },
    {
      "cell_type": "code",
      "source": [
        "from matplotlib.colors import ListedColormap\n",
        "X_set, y_set = sc.inverse_transform(X_train), y_train\n",
        "X1, X2 = np.meshgrid(np.arange(start = X_set[:, 0].min() - 0, stop = X_set[:, 0].max() + 3, step = 1),\n",
        "                     np.arange(start = X_set[:, 1].min() - 0, stop = X_set[:, 1].max() + 200, step = 1))\n",
        "plt.contourf(X1, X2, classifier.predict(sc.transform(np.array([X1.ravel(), X2.ravel()]).T)).reshape(X1.shape),\n",
        "             alpha = 0.75, cmap = ListedColormap(('red', 'green')))\n",
        "plt.xlim(X1.min(), X1.max())\n",
        "plt.ylim(X2.min(), X2.max())\n",
        "for i, j in enumerate(np.unique(y_set)):\n",
        "    plt.scatter(X_set[y_set == j, 0], X_set[y_set == j, 1], c = ListedColormap(('red', 'green'))(i), label = j)\n",
        "plt.title('Kernel SVM (Training set)')\n",
        "plt.xlabel('Age')\n",
        "plt.ylabel('Cost of Device')\n",
        "plt.legend()\n",
        "plt.show()"
      ],
      "metadata": {
        "colab": {
          "base_uri": "https://localhost:8080/",
          "height": 527
        },
        "id": "amCIhAmhQW4M",
        "outputId": "bd1b5c7a-4bb8-42bc-dbdc-0e105e9c0163"
      },
      "execution_count": 20,
      "outputs": [
        {
          "output_type": "stream",
          "name": "stderr",
          "text": [
            "<ipython-input-20-3aa79126a09c>:10: UserWarning: *c* argument looks like a single numeric RGB or RGBA sequence, which should be avoided as value-mapping will have precedence in case its length matches with *x* & *y*.  Please use the *color* keyword-argument or provide a 2D array with a single row if you intend to specify the same RGB or RGBA value for all points.\n",
            "  plt.scatter(X_set[y_set == j, 0], X_set[y_set == j, 1], c = ListedColormap(('red', 'green'))(i), label = j)\n"
          ]
        },
        {
          "output_type": "display_data",
          "data": {
            "text/plain": [
              "<Figure size 640x480 with 1 Axes>"
            ],
            "image/png": "[encoded data removed]"
          },
          "metadata": {}
        }
      ]
    }
  ]
}