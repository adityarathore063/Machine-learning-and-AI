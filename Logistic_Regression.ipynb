{
  "nbformat": 4,
  "nbformat_minor": 0,
  "metadata": {
    "colab": {
      "provenance": [],
      "authorship_tag": "ABX9TyO+koa+GwmsmCRex4je0LX1",
      "include_colab_link": true
    },
    "kernelspec": {
      "name": "python3",
      "display_name": "Python 3"
    },
    "language_info": {
      "name": "python"
    }
  },
  "cells": [
    {
      "cell_type": "markdown",
      "metadata": {
        "id": "view-in-github",
        "colab_type": "text"
      },
      "source": [
        "<a href=\"https://colab.research.google.com/github/adityarathore063/Machine-learning-and-AI/blob/master/Logistic_Regression.ipynb\" target=\"_parent\"><img src=\"https://colab.research.google.com/assets/colab-badge.svg\" alt=\"Open In Colab\"/></a>"
      ]
    },
    {
      "cell_type": "code",
      "execution_count": 18,
      "metadata": {
        "id": "UMNrhUmCgMYc"
      },
      "outputs": [],
      "source": [
        "import numpy as np\n",
        "import pandas as pd\n",
        "import matplotlib.pyplot as plt"
      ]
    },
    {
      "cell_type": "code",
      "source": [
        "dataset = pd.read_csv(\"/content/instagram_ads.csv\")\n",
        "X = dataset.iloc[:,:-1].values\n",
        "y = dataset.iloc[:,-1].values"
      ],
      "metadata": {
        "id": "TtQ0ugxhe4vg"
      },
      "execution_count": 5,
      "outputs": []
    },
    {
      "cell_type": "code",
      "source": [
        "print(X)"
      ],
      "metadata": {
        "colab": {
          "base_uri": "https://localhost:8080/"
        },
        "id": "1wD9YRB7fjyy",
        "outputId": "5dcf7560-0a0f-4429-8f22-9758125d7118"
      },
      "execution_count": 6,
      "outputs": [
        {
          "output_type": "stream",
          "name": "stdout",
          "text": [
            "[[   15  6334]\n",
            " [   28  6667]\n",
            " [   20 14334]\n",
            " [   21 19000]\n",
            " [   15 25334]\n",
            " [   21 19334]\n",
            " [   21 28000]\n",
            " [   25 50000]\n",
            " [   20 11000]\n",
            " [   28 21667]\n",
            " [   20 26667]\n",
            " [   26 17000]\n",
            " [   28 36000]\n",
            " [   18  6667]\n",
            " [   20 26334]\n",
            " [   21 18000]\n",
            " [   24 45000]\n",
            " [   24 29667]\n",
            " [   19 10667]\n",
            " [   14 14667]\n",
            " [   23 27667]\n",
            " [   28  7667]\n",
            " [   21 19334]\n",
            " [   19 18334]\n",
            " [   18 16000]\n",
            " [   22 26334]\n",
            " [   17  6000]\n",
            " [   25 39000]\n",
            " [   21  6667]\n",
            " [   20 29000]\n",
            " [   18 22000]\n",
            " [   25 40000]\n",
            " [   17 21000]\n",
            " [   24 22667]\n",
            " [   20 26667]\n",
            " [   19  9000]\n",
            " [   16  7667]\n",
            " [   26 37667]\n",
            " [   25  6000]\n",
            " [   27 37334]\n",
            " [   24 38667]\n",
            " [   20  5000]\n",
            " [   23  9334]\n",
            " [   23 27667]\n",
            " [   26 49667]\n",
            " [   15  7000]\n",
            " [   16 24000]\n",
            " [   20 11667]\n",
            " [   21 29667]\n",
            " [   20 28667]\n",
            " [   30 26667]\n",
            " [   31 23667]\n",
            " [   29 23667]\n",
            " [   20 30000]\n",
            " [   29 11000]\n",
            " [   17 18334]\n",
            " [   28 23667]\n",
            " [   23 49334]\n",
            " [   23 15667]\n",
            " [   16 29334]\n",
            " [   27 38334]\n",
            " [   20 39334]\n",
            " [   27 14334]\n",
            " [   27 24000]\n",
            " [   18  9334]\n",
            " [   28 15667]\n",
            " [   20  7334]\n",
            " [   19  7667]\n",
            " [   16 27334]\n",
            " [   26 13667]\n",
            " [   22 10667]\n",
            " [   19 28000]\n",
            " [   15  8667]\n",
            " [   23 14334]\n",
            " [   15 23334]\n",
            " [   22 29667]\n",
            " [   27 14334]\n",
            " [   24 26334]\n",
            " [   16 12000]\n",
            " [   20 26667]\n",
            " [   28  7334]\n",
            " [   28 13000]\n",
            " [   39 24667]\n",
            " [   31 44667]\n",
            " [   32 23667]\n",
            " [   46 33667]\n",
            " [   37 15667]\n",
            " [   44 43334]\n",
            " [   41 38000]\n",
            " [   32 47334]\n",
            " [   36  7334]\n",
            " [   38 32000]\n",
            " [   41 50000]\n",
            " [   28 19334]\n",
            " [   37 14334]\n",
            " [   48 36000]\n",
            " [   39 21667]\n",
            " [   32 26000]\n",
            " [   36 32000]\n",
            " [   47 47667]\n",
            " [   32 26667]\n",
            " [   28 30334]\n",
            " [   29 48000]\n",
            " [   48 34000]\n",
            " [   28 20000]\n",
            " [   29 17667]\n",
            " [   28 42000]\n",
            " [   44 44334]\n",
            " [   32 24000]\n",
            " [   33 26667]\n",
            " [   28 49000]\n",
            " [   31 14000]\n",
            " [   39 28667]\n",
            " [   36 26334]\n",
            " [   29 26667]\n",
            " [   36 27334]\n",
            " [   42 47667]\n",
            " [   33 49667]\n",
            " [   30 19667]\n",
            " [   40 29334]\n",
            " [   44 34667]\n",
            " [   32 24000]\n",
            " [   28 16667]\n",
            " [   45 40667]\n",
            " [   32 17334]\n",
            " [   28 32334]\n",
            " [   35 13000]\n",
            " [   29 17334]\n",
            " [   38 44667]\n",
            " [   29 48667]\n",
            " [   41 30000]\n",
            " [   32 24000]\n",
            " [   32 19000]\n",
            " [   46 31667]\n",
            " [   36 43667]\n",
            " [   28 48000]\n",
            " [   28 24000]\n",
            " [   38 30000]\n",
            " [   33 36000]\n",
            " [   32 25000]\n",
            " [   37 48000]\n",
            " [   32 20334]\n",
            " [   34 44334]\n",
            " [   47 25334]\n",
            " [   48 14000]\n",
            " [   31 35334]\n",
            " [   45  8667]\n",
            " [   45 24667]\n",
            " [   30 23667]\n",
            " [   39 29334]\n",
            " [   41 12667]\n",
            " [   40 12000]\n",
            " [   47 29334]\n",
            " [   28 20334]\n",
            " [   29 23334]\n",
            " [   41  7000]\n",
            " [   38 47000]\n",
            " [   29 31000]\n",
            " [   29 20667]\n",
            " [   38 46000]\n",
            " [   32 26334]\n",
            " [   29 26000]\n",
            " [   31 44667]\n",
            " [   39 29667]\n",
            " [   44 13000]\n",
            " [   29 25667]\n",
            " [   28 21000]\n",
            " [   33 24334]\n",
            " [   36 39000]\n",
            " [   38 24667]\n",
            " [   29 26334]\n",
            " [   32 20000]\n",
            " [   37 37667]\n",
            " [   30 16667]\n",
            " [   39 47000]\n",
            " [   31 26334]\n",
            " [   31 25000]\n",
            " [   43 34667]\n",
            " [   28 18334]\n",
            " [   36 10667]\n",
            " [   28 20000]\n",
            " [   41 46000]\n",
            " [   42 27334]\n",
            " [   32 17334]\n",
            " [   38 10000]\n",
            " [   38 43667]\n",
            " [   32 24000]\n",
            " [   37 35667]\n",
            " [   30 17000]\n",
            " [   38 39667]\n",
            " [   33 21667]\n",
            " [   32 21667]\n",
            " [   45 20000]\n",
            " [   28 18000]\n",
            " [   28 26334]\n",
            " [   34 43000]\n",
            " [   42 11334]\n",
            " [   37 16667]\n",
            " [   33 26334]]\n"
          ]
        }
      ]
    },
    {
      "cell_type": "code",
      "source": [
        "print(y)"
      ],
      "metadata": {
        "colab": {
          "base_uri": "https://localhost:8080/"
        },
        "id": "oWJnPy30flj4",
        "outputId": "52a79c12-85ae-4ce0-dd33-aac9fc25c516"
      },
      "execution_count": 7,
      "outputs": [
        {
          "output_type": "stream",
          "name": "stdout",
          "text": [
            "[0 0 0 0 0 0 0 1 0 0 0 0 0 0 0 0 1 0 0 0 0 0 0 0 0 0 0 0 0 0 0 1 0 0 0 0 0\n",
            " 0 0 1 0 0 0 0 1 0 0 0 0 0 0 0 0 0 0 0 0 1 0 0 0 0 0 0 0 0 0 0 0 0 0 0 0 0\n",
            " 0 0 0 0 0 0 0 0 0 1 0 1 0 1 0 1 0 1 1 0 0 1 0 0 0 1 0 1 1 1 0 0 1 1 0 1 1\n",
            " 0 1 1 0 0 1 1 0 1 1 0 0 1 0 1 0 0 1 1 1 0 0 1 1 1 0 1 1 0 1 0 0 1 1 1 1 1\n",
            " 0 1 1 1 1 0 1 1 0 1 0 1 0 1 1 1 1 0 0 1 1 1 1 0 1 0 1 0 1 1 0 1 0 1 1 0 1\n",
            " 1 0 1 0 1 0 0 1 0 0 1 1 1 0]\n"
          ]
        }
      ]
    },
    {
      "cell_type": "code",
      "source": [
        "from sklearn.model_selection import train_test_split\n",
        "X_train, X_test, y_train, y_test = train_test_split(X,y, test_size=0.2, random_state=42)"
      ],
      "metadata": {
        "id": "LjM9Z5j4fukh"
      },
      "execution_count": 8,
      "outputs": []
    },
    {
      "cell_type": "code",
      "source": [
        "from sklearn.preprocessing import StandardScaler\n",
        "sc = StandardScaler()\n",
        "X_train = sc.fit_transform(X_train)\n",
        "X_test = sc.transform(X_test)"
      ],
      "metadata": {
        "id": "BV0PGhdbgFkA"
      },
      "execution_count": 9,
      "outputs": []
    },
    {
      "cell_type": "code",
      "source": [
        "print(X_train)"
      ],
      "metadata": {
        "colab": {
          "base_uri": "https://localhost:8080/"
        },
        "id": "8aUnWyrPgu3o",
        "outputId": "d89268b3-e550-4dc6-d80d-f0407f84b026"
      },
      "execution_count": 10,
      "outputs": [
        {
          "output_type": "stream",
          "name": "stdout",
          "text": [
            "[[ 0.30645937 -0.72727353]\n",
            " [-0.55054887 -1.66795146]\n",
            " [-1.40755711 -0.83799034]\n",
            " [ 0.55131887  1.5136215 ]\n",
            " [ 0.30645937 -0.47828519]\n",
            " [-1.16269761  0.24095912]\n",
            " [-1.8972761  -0.94862416]\n",
            " [ 1.04103786 -0.11866304]\n",
            " [-0.06082987 -0.72727353]\n",
            " [ 0.06159987 -0.5336436 ]\n",
            " [-0.18325962 -0.20165915]\n",
            " [-1.04026786 -0.56128131]\n",
            " [-0.18325962 -0.78263194]\n",
            " [ 0.79617836  0.01969148]\n",
            " [-0.18325962 -0.56128131]\n",
            " [ 0.30645937 -0.09102533]\n",
            " [ 2.26533534  0.8219319 ]\n",
            " [ 0.30645937 -0.50600589]\n",
            " [ 1.53075685 -1.2252502 ]\n",
            " [ 0.79617836  1.07092024]\n",
            " [ 0.91860811  1.81788525]\n",
            " [-0.55054887  1.15391635]\n",
            " [-0.18325962  0.8219319 ]\n",
            " [-1.28512736 -1.41896313]\n",
            " [ 0.79617836  0.10268759]\n",
            " [-0.79540836 -1.39124243]\n",
            " [-0.79540836 -0.97626187]\n",
            " [-0.18325962 -0.17402145]\n",
            " [-0.18325962  1.81788525]\n",
            " [ 0.18402962 -0.20165915]\n",
            " [-0.18325962 -0.50600589]\n",
            " [-0.06082987 -0.00802922]\n",
            " [-1.16269761 -1.75094758]\n",
            " [-0.06082987  0.04732919]\n",
            " [ 0.42888912  0.04732919]\n",
            " [-1.52998685 -1.66795146]\n",
            " [ 0.30645937 -0.58900201]\n",
            " [ 0.30645937 -0.00802922]\n",
            " [-0.06082987 -0.03566693]\n",
            " [-1.16269761 -0.97626187]\n",
            " [-0.67297862  0.01969148]\n",
            " [-1.6524166  -0.17402145]\n",
            " [ 1.16346761  0.21332141]\n",
            " [ 1.04103786  1.45826309]\n",
            " [ 0.42888912  0.8219319 ]\n",
            " [-1.6524166  -1.52959695]\n",
            " [-1.16269761  1.09864094]\n",
            " [-1.04026786 -0.56128131]\n",
            " [ 0.18402962  1.5412592 ]\n",
            " [ 0.79617836  0.48994745]\n",
            " [-0.67297862 -0.28465526]\n",
            " [-0.42811912 -0.75499423]\n",
            " [-0.18325962 -0.67199812]\n",
            " [-0.06082987 -0.45064749]\n",
            " [-1.04026786  0.157963  ]\n",
            " [-0.55054887  1.07092024]\n",
            " [ 0.30645937 -0.17402145]\n",
            " [-1.77484635 -0.06330463]\n",
            " [-1.52998685 -0.42300978]\n",
            " [ 0.30645937  0.04732919]\n",
            " [ 2.26533534 -1.00398257]\n",
            " [-0.18325962  0.01969148]\n",
            " [ 2.14290559 -0.06330463]\n",
            " [-1.16269761  0.04732919]\n",
            " [-0.30568937 -0.97626187]\n",
            " [ 0.42888912  1.95623977]\n",
            " [ 0.18402962  0.76665649]\n",
            " [-1.77484635 -1.64023076]\n",
            " [-0.18325962 -0.64427742]\n",
            " [ 2.14290559  0.26867982]\n",
            " [-0.91783811 -1.28060861]\n",
            " [ 1.28589736  0.26867982]\n",
            " [-1.40755711 -1.39124243]\n",
            " [-0.42811912  1.95623977]\n",
            " [ 1.4083271   1.65189302]\n",
            " [-1.04026786 -1.61259306]\n",
            " [-0.67297862  1.04328253]\n",
            " [-0.18325962  0.51766815]\n",
            " [-0.06082987 -0.22929686]\n",
            " [ 1.4083271  -1.58495535]\n",
            " [-0.91783811  0.01969148]\n",
            " [-1.28512736 -0.64427742]\n",
            " [ 1.4083271  -1.11461638]\n",
            " [ 1.8980461  -1.44660083]\n",
            " [-0.18325962 -1.08697868]\n",
            " [ 0.30645937 -0.17402145]\n",
            " [-1.16269761  0.04732919]\n",
            " [ 0.30645937 -0.20165915]\n",
            " [-0.30568937  0.93264871]\n",
            " [ 0.42888912 -0.14630074]\n",
            " [-1.16269761 -1.1976125 ]\n",
            " [ 0.91860811 -0.97626187]\n",
            " [-0.18325962 -0.47828519]\n",
            " [-0.79540836  0.1303253 ]\n",
            " [ 1.04103786  0.32395523]\n",
            " [-1.04026786 -0.58900201]\n",
            " [-0.06082987 -0.69963582]\n",
            " [-1.16269761  0.32395523]\n",
            " [ 2.02047585  0.46230975]\n",
            " [ 0.91860811 -0.78263194]\n",
            " [ 1.04103786  1.73488913]\n",
            " [ 1.04103786 -1.33596702]\n",
            " [-1.16269761  0.21332141]\n",
            " [-0.18325962 -1.55723465]\n",
            " [-1.16269761  0.04732919]\n",
            " [-0.55054887  1.98387747]\n",
            " [-0.18325962  1.90088136]\n",
            " [ 1.04103786  0.48994745]\n",
            " [ 0.18402962  1.5412592 ]\n",
            " [ 0.18402962  0.01969148]\n",
            " [-0.18325962 -0.50600589]\n",
            " [ 0.30645937  1.76260984]\n",
            " [-1.16269761 -1.2529709 ]\n",
            " [-1.40755711 -1.61259306]\n",
            " [-1.6524166   0.26867982]\n",
            " [-0.06082987  0.01969148]\n",
            " [ 0.30645937 -0.17402145]\n",
            " [-0.67297862  0.29631752]\n",
            " [-1.77484635 -1.44660083]\n",
            " [ 1.16346761  1.73488913]\n",
            " [ 0.79617836  1.45826309]\n",
            " [-0.18325962 -0.42300978]\n",
            " [ 1.53075685  0.10268759]\n",
            " [-0.30568937 -0.17402145]\n",
            " [-0.06082987 -1.2529709 ]\n",
            " [ 1.77561635  1.5136215 ]\n",
            " [ 0.06159987  0.04732919]\n",
            " [ 0.55131887  1.40290469]\n",
            " [-0.79540836 -0.86562805]\n",
            " [-1.04026786  0.29631752]\n",
            " [ 1.4083271   0.98792412]\n",
            " [-0.18325962 -1.52959695]\n",
            " [-0.79540836  1.92860206]\n",
            " [ 0.30645937  0.01969148]\n",
            " [ 0.30645937 -0.36765138]\n",
            " [-0.06082987  1.87324365]\n",
            " [-0.42811912  0.96028642]\n",
            " [-0.06082987  0.40695134]\n",
            " [ 0.91860811  0.79429419]\n",
            " [-0.18325962 -1.61259306]\n",
            " [-0.06082987 -0.20165915]\n",
            " [ 1.16346761  0.26867982]\n",
            " [ 1.4083271   0.32395523]\n",
            " [ 1.28589736 -1.16997479]\n",
            " [ 2.26533534  0.65593968]\n",
            " [ 2.14290559  1.79024754]\n",
            " [ 1.53075685  1.79024754]\n",
            " [ 1.77561635  1.43062539]\n",
            " [-1.77484635 -0.22929686]\n",
            " [ 0.30645937 -0.17402145]\n",
            " [ 0.42888912  0.01969148]\n",
            " [-0.79540836  0.1303253 ]\n",
            " [ 0.06159987 -0.75499423]\n",
            " [-1.28512736  0.157963  ]\n",
            " [-0.18325962  1.31990857]\n",
            " [-1.16269761  0.01969148]\n",
            " [ 1.4083271   1.98387747]\n",
            " [ 0.79617836 -1.28060861]\n",
            " [-0.06082987  1.81788525]]\n"
          ]
        }
      ]
    },
    {
      "cell_type": "code",
      "source": [
        "print(X_test)"
      ],
      "metadata": {
        "colab": {
          "base_uri": "https://localhost:8080/"
        },
        "id": "ImQ3QdFZgxdB",
        "outputId": "f6848a06-df0c-41c6-abfd-95fad5ab8b6e"
      },
      "execution_count": 11,
      "outputs": [
        {
          "output_type": "stream",
          "name": "stdout",
          "text": [
            "[[ 1.16346761 -0.11866304]\n",
            " [-1.04026786 -0.67199812]\n",
            " [ 0.18402962 -1.00398257]\n",
            " [ 1.6531866   0.71129808]\n",
            " [-0.30568937 -0.97626187]\n",
            " [ 1.16346761  0.29631752]\n",
            " [-1.6524166   0.10268759]\n",
            " [-1.28512736 -1.52959695]\n",
            " [ 1.77561635  0.71129808]\n",
            " [ 0.06159987 -0.78263194]\n",
            " [ 0.18402962 -0.09102533]\n",
            " [ 0.06159987 -0.20165915]\n",
            " [-0.18325962 -0.86562805]\n",
            " [-1.40755711 -0.34001367]\n",
            " [ 0.91860811 -0.86562805]\n",
            " [ 2.02047585  0.62830197]\n",
            " [-1.52998685 -0.64427742]\n",
            " [-0.30568937  1.01564483]\n",
            " [ 0.79617836 -1.55723465]\n",
            " [ 1.04103786  1.65189302]\n",
            " [-0.67297862  1.56889691]\n",
            " [ 0.30645937 -0.72727353]\n",
            " [ 1.16346761 -0.36765138]\n",
            " [ 0.91860811  0.96028642]\n",
            " [-1.16269761 -1.55723465]\n",
            " [ 1.04103786  1.12627864]\n",
            " [ 1.8980461  -0.11866304]\n",
            " [-0.18325962 -0.36765138]\n",
            " [-1.28512736 -1.28060861]\n",
            " [ 1.04103786  1.5412592 ]\n",
            " [ 0.42888912 -0.36765138]\n",
            " [-1.77484635 -1.58495535]\n",
            " [ 1.8980461  -0.50600589]\n",
            " [ 1.77561635 -1.08697868]\n",
            " [-0.18325962  0.35167593]\n",
            " [-0.42811912 -1.03162027]\n",
            " [ 0.67374861 -1.08697868]\n",
            " [ 1.8980461   1.20927476]\n",
            " [-0.91783811  0.29631752]\n",
            " [-1.6524166  -1.16997479]]\n"
          ]
        }
      ]
    },
    {
      "cell_type": "code",
      "source": [
        "from sklearn.linear_model import LogisticRegression\n",
        "classifier = LogisticRegression()\n",
        "classifier.fit(X_train,y_train)"
      ],
      "metadata": {
        "colab": {
          "base_uri": "https://localhost:8080/",
          "height": 75
        },
        "id": "iPz3vxpkg029",
        "outputId": "3fa95b6d-de46-433d-9f8b-f071247d67d2"
      },
      "execution_count": 12,
      "outputs": [
        {
          "output_type": "execute_result",
          "data": {
            "text/plain": [
              "LogisticRegression()"
            ],
            "text/html": [
              "<style>#sk-container-id-1 {color: black;background-color: white;}#sk-container-id-1 pre{padding: 0;}#sk-container-id-1 div.sk-toggleable {background-color: white;}#sk-container-id-1 label.sk-toggleable__label {cursor: pointer;display: block;width: 100%;margin-bottom: 0;padding: 0.3em;box-sizing: border-box;text-align: center;}#sk-container-id-1 label.sk-toggleable__label-arrow:before {content: \"▸\";float: left;margin-right: 0.25em;color: #696969;}#sk-container-id-1 label.sk-toggleable__label-arrow:hover:before {color: black;}#sk-container-id-1 div.sk-estimator:hover label.sk-toggleable__label-arrow:before {color: black;}#sk-container-id-1 div.sk-toggleable__content {max-height: 0;max-width: 0;overflow: hidden;text-align: left;background-color: #f0f8ff;}#sk-container-id-1 div.sk-toggleable__content pre {margin: 0.2em;color: black;border-radius: 0.25em;background-color: #f0f8ff;}#sk-container-id-1 input.sk-toggleable__control:checked~div.sk-toggleable__content {max-height: 200px;max-width: 100%;overflow: auto;}#sk-container-id-1 input.sk-toggleable__control:checked~label.sk-toggleable__label-arrow:before {content: \"▾\";}#sk-container-id-1 div.sk-estimator input.sk-toggleable__control:checked~label.sk-toggleable__label {background-color: #d4ebff;}#sk-container-id-1 div.sk-label input.sk-toggleable__control:checked~label.sk-toggleable__label {background-color: #d4ebff;}#sk-container-id-1 input.sk-hidden--visually {border: 0;clip: rect(1px 1px 1px 1px);clip: rect(1px, 1px, 1px, 1px);height: 1px;margin: -1px;overflow: hidden;padding: 0;position: absolute;width: 1px;}#sk-container-id-1 div.sk-estimator {font-family: monospace;background-color: #f0f8ff;border: 1px dotted black;border-radius: 0.25em;box-sizing: border-box;margin-bottom: 0.5em;}#sk-container-id-1 div.sk-estimator:hover {background-color: #d4ebff;}#sk-container-id-1 div.sk-parallel-item::after {content: \"\";width: 100%;border-bottom: 1px solid gray;flex-grow: 1;}#sk-container-id-1 div.sk-label:hover label.sk-toggleable__label {background-color: #d4ebff;}#sk-container-id-1 div.sk-serial::before {content: \"\";position: absolute;border-left: 1px solid gray;box-sizing: border-box;top: 0;bottom: 0;left: 50%;z-index: 0;}#sk-container-id-1 div.sk-serial {display: flex;flex-direction: column;align-items: center;background-color: white;padding-right: 0.2em;padding-left: 0.2em;position: relative;}#sk-container-id-1 div.sk-item {position: relative;z-index: 1;}#sk-container-id-1 div.sk-parallel {display: flex;align-items: stretch;justify-content: center;background-color: white;position: relative;}#sk-container-id-1 div.sk-item::before, #sk-container-id-1 div.sk-parallel-item::before {content: \"\";position: absolute;border-left: 1px solid gray;box-sizing: border-box;top: 0;bottom: 0;left: 50%;z-index: -1;}#sk-container-id-1 div.sk-parallel-item {display: flex;flex-direction: column;z-index: 1;position: relative;background-color: white;}#sk-container-id-1 div.sk-parallel-item:first-child::after {align-self: flex-end;width: 50%;}#sk-container-id-1 div.sk-parallel-item:last-child::after {align-self: flex-start;width: 50%;}#sk-container-id-1 div.sk-parallel-item:only-child::after {width: 0;}#sk-container-id-1 div.sk-dashed-wrapped {border: 1px dashed gray;margin: 0 0.4em 0.5em 0.4em;box-sizing: border-box;padding-bottom: 0.4em;background-color: white;}#sk-container-id-1 div.sk-label label {font-family: monospace;font-weight: bold;display: inline-block;line-height: 1.2em;}#sk-container-id-1 div.sk-label-container {text-align: center;}#sk-container-id-1 div.sk-container {/* jupyter's `normalize.less` sets `[hidden] { display: none; }` but bootstrap.min.css set `[hidden] { display: none !important; }` so we also need the `!important` here to be able to override the default hidden behavior on the sphinx rendered scikit-learn.org. See: https://github.com/scikit-learn/scikit-learn/issues/21755 */display: inline-block !important;position: relative;}#sk-container-id-1 div.sk-text-repr-fallback {display: none;}</style><div id=\"sk-container-id-1\" class=\"sk-top-container\"><div class=\"sk-text-repr-fallback\"><pre>LogisticRegression()</pre><b>In a Jupyter environment, please rerun this cell to show the HTML representation or trust the notebook. <br />On GitHub, the HTML representation is unable to render, please try loading this page with nbviewer.org.</b></div><div class=\"sk-container\" hidden><div class=\"sk-item\"><div class=\"sk-estimator sk-toggleable\"><input class=\"sk-toggleable__control sk-hidden--visually\" id=\"sk-estimator-id-1\" type=\"checkbox\" checked><label for=\"sk-estimator-id-1\" class=\"sk-toggleable__label sk-toggleable__label-arrow\">LogisticRegression</label><div class=\"sk-toggleable__content\"><pre>LogisticRegression()</pre></div></div></div></div></div>"
            ]
          },
          "metadata": {},
          "execution_count": 12
        }
      ]
    },
    {
      "cell_type": "code",
      "source": [
        "print(classifier.predict(sc.transform([[54,41000]])))"
      ],
      "metadata": {
        "colab": {
          "base_uri": "https://localhost:8080/"
        },
        "id": "NzIoUXkBhTUV",
        "outputId": "4bd650c1-62e2-40f7-d08b-19824c7a4536"
      },
      "execution_count": 13,
      "outputs": [
        {
          "output_type": "stream",
          "name": "stdout",
          "text": [
            "[1]\n"
          ]
        }
      ]
    },
    {
      "cell_type": "code",
      "source": [
        "y_pred = classifier.predict(X_test)\n",
        "print(np.concatenate((y_pred.reshape(len(y_pred), 1), y_test.reshape(len(y_test), 1)), 1))"
      ],
      "metadata": {
        "colab": {
          "base_uri": "https://localhost:8080/"
        },
        "id": "Ybx7Jz4jiBIf",
        "outputId": "96eea075-1279-4c65-d918-811349f08e8d"
      },
      "execution_count": 14,
      "outputs": [
        {
          "output_type": "stream",
          "name": "stdout",
          "text": [
            "[[1 0]\n",
            " [0 0]\n",
            " [0 0]\n",
            " [1 1]\n",
            " [0 0]\n",
            " [1 1]\n",
            " [0 0]\n",
            " [0 0]\n",
            " [1 1]\n",
            " [0 0]\n",
            " [0 1]\n",
            " [0 0]\n",
            " [0 0]\n",
            " [0 0]\n",
            " [0 0]\n",
            " [1 1]\n",
            " [0 0]\n",
            " [0 0]\n",
            " [0 0]\n",
            " [1 1]\n",
            " [0 1]\n",
            " [0 0]\n",
            " [1 0]\n",
            " [1 1]\n",
            " [0 0]\n",
            " [1 1]\n",
            " [1 1]\n",
            " [0 0]\n",
            " [0 0]\n",
            " [1 1]\n",
            " [0 0]\n",
            " [0 0]\n",
            " [1 1]\n",
            " [1 1]\n",
            " [0 1]\n",
            " [0 0]\n",
            " [0 0]\n",
            " [1 1]\n",
            " [0 0]\n",
            " [0 0]]\n"
          ]
        }
      ]
    },
    {
      "cell_type": "code",
      "source": [
        "from sklearn.metrics import confusion_matrix, accuracy_score\n",
        "cm = confusion_matrix(y_test, y_pred)\n",
        "print(cm)\n",
        "accuracy_score(y_test,y_pred)"
      ],
      "metadata": {
        "colab": {
          "base_uri": "https://localhost:8080/"
        },
        "id": "d5yzAOF2jg0R",
        "outputId": "5b7d0b82-4049-4377-a9ff-5a5a5aea92dd"
      },
      "execution_count": 16,
      "outputs": [
        {
          "output_type": "stream",
          "name": "stdout",
          "text": [
            "[[23  2]\n",
            " [ 3 12]]\n"
          ]
        },
        {
          "output_type": "execute_result",
          "data": {
            "text/plain": [
              "0.875"
            ]
          },
          "metadata": {},
          "execution_count": 16
        }
      ]
    },
    {
      "cell_type": "code",
      "source": [
        "from matplotlib.colors import ListedColormap\n",
        "X_set, y_set = sc.inverse_transform(X_train), y_train\n",
        "X1, X2 = np.meshgrid(np.arange(start = X_set[:, 0].min() - 10, stop = X_set[:, 0].max() + 10, step = 0.25),\n",
        "                     np.arange(start = X_set[:, 1].min() - 1000, stop = X_set[:, 1].max() + 1000, step = 0.25))\n",
        "plt.contourf(X1, X2, classifier.predict(sc.transform(np.array([X1.ravel(), X2.ravel()]).T)).reshape(X1.shape),\n",
        "             alpha = 0.75, cmap = ListedColormap(('red', 'green')))\n",
        "plt.xlim(X1.min(), X1.max())\n",
        "plt.ylim(X2.min(), X2.max())\n",
        "for i, j in enumerate(np.unique(y_set)):\n",
        "    plt.scatter(X_set[y_set == j, 0], X_set[y_set == j, 1], c = ListedColormap(('red', 'green'))(i), label = j)\n",
        "plt.title('Logistic Regression (Training set)')\n",
        "plt.xlabel('Age')\n",
        "plt.ylabel('Estimated Salary')\n",
        "plt.legend()\n",
        "plt.show()"
      ],
      "metadata": {
        "colab": {
          "base_uri": "https://localhost:8080/",
          "height": 527
        },
        "id": "EOp5U2NPlkXp",
        "outputId": "d9608494-85cf-4234-f0c0-89afa7e8a6e5"
      },
      "execution_count": 19,
      "outputs": [
        {
          "output_type": "stream",
          "name": "stderr",
          "text": [
            "<ipython-input-19-3277c112bab0>:10: UserWarning: *c* argument looks like a single numeric RGB or RGBA sequence, which should be avoided as value-mapping will have precedence in case its length matches with *x* & *y*.  Please use the *color* keyword-argument or provide a 2D array with a single row if you intend to specify the same RGB or RGBA value for all points.\n",
            "  plt.scatter(X_set[y_set == j, 0], X_set[y_set == j, 1], c = ListedColormap(('red', 'green'))(i), label = j)\n"
          ]
        },
        {
          "output_type": "display_data",
          "data": {
            "text/plain": [
              "<Figure size 640x480 with 1 Axes>"
            ],
            "image/png": "[encoded data removed]"
          },
          "metadata": {}
        }
      ]
    },
    {
      "cell_type": "code",
      "source": [
        "from matplotlib.colors import ListedColormap\n",
        "X_set, y_set = sc.inverse_transform(X_test), y_test\n",
        "X1, X2 = np.meshgrid(np.arange(start = X_set[:, 0].min() - 10, stop = X_set[:, 0].max() + 10, step = 0.25),\n",
        "                     np.arange(start = X_set[:, 1].min() - 1000, stop = X_set[:, 1].max() + 1000, step = 0.25))\n",
        "plt.contourf(X1, X2, classifier.predict(sc.transform(np.array([X1.ravel(), X2.ravel()]).T)).reshape(X1.shape),\n",
        "             alpha = 0.75, cmap = ListedColormap(('red', 'green')))\n",
        "plt.xlim(X1.min(), X1.max())\n",
        "plt.ylim(X2.min(), X2.max())\n",
        "for i, j in enumerate(np.unique(y_set)):\n",
        "    plt.scatter(X_set[y_set == j, 0], X_set[y_set == j, 1], c = ListedColormap(('red', 'green'))(i), label = j)\n",
        "plt.title('Logistic Regression (Test set)')\n",
        "plt.xlabel('Age')\n",
        "plt.ylabel('Estimated Salary')\n",
        "plt.legend()\n",
        "plt.show()"
      ],
      "metadata": {
        "colab": {
          "base_uri": "https://localhost:8080/",
          "height": 527
        },
        "id": "DNS9RwbemD91",
        "outputId": "5a0cbbf7-ada9-4863-86d7-ed66f6648443"
      },
      "execution_count": 20,
      "outputs": [
        {
          "output_type": "stream",
          "name": "stderr",
          "text": [
            "<ipython-input-20-53d83417cfe6>:10: UserWarning: *c* argument looks like a single numeric RGB or RGBA sequence, which should be avoided as value-mapping will have precedence in case its length matches with *x* & *y*.  Please use the *color* keyword-argument or provide a 2D array with a single row if you intend to specify the same RGB or RGBA value for all points.\n",
            "  plt.scatter(X_set[y_set == j, 0], X_set[y_set == j, 1], c = ListedColormap(('red', 'green'))(i), label = j)\n"
          ]
        },
        {
          "output_type": "display_data",
          "data": {
            "text/plain": [
              "<Figure size 640x480 with 1 Axes>"
            ],
            "image/png": "[encoded data removed]"
          },
          "metadata": {}
        }
      ]
    }
  ]
}