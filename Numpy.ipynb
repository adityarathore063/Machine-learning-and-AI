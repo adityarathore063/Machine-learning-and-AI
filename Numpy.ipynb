{
  "nbformat": 4,
  "nbformat_minor": 0,
  "metadata": {
    "colab": {
      "provenance": [],
      "authorship_tag": "ABX9TyNEVWBbSt02GOtyuFsoV2D/",
      "include_colab_link": true
    },
    "kernelspec": {
      "name": "python3",
      "display_name": "Python 3"
    },
    "language_info": {
      "name": "python"
    }
  },
  "cells": [
    {
      "cell_type": "markdown",
      "metadata": {
        "id": "view-in-github",
        "colab_type": "text"
      },
      "source": [
        "<a href=\"https://colab.research.google.com/github/adityarathore063/Machine-learning-and-AI/blob/master/Numpy.ipynb\" target=\"_parent\"><img src=\"https://colab.research.google.com/assets/colab-badge.svg\" alt=\"Open In Colab\"/></a>"
      ]
    },
    {
      "cell_type": "markdown",
      "source": [
        "**Numpy in Python**"
      ],
      "metadata": {
        "id": "ypT9ykr00dFB"
      }
    },
    {
      "cell_type": "code",
      "source": [
        "import numpy as np\n",
        "import math as m"
      ],
      "metadata": {
        "id": "wwktgMZB0ng-"
      },
      "execution_count": 26,
      "outputs": []
    },
    {
      "cell_type": "code",
      "source": [
        "demo = [1,2,3]\n",
        "np.array(demo)"
      ],
      "metadata": {
        "colab": {
          "base_uri": "https://localhost:8080/"
        },
        "id": "-v8INLEH3Oba",
        "outputId": "380b4654-03b5-48df-cb6e-731767451569"
      },
      "execution_count": 2,
      "outputs": [
        {
          "output_type": "execute_result",
          "data": {
            "text/plain": [
              "array([1, 2, 3])"
            ]
          },
          "metadata": {},
          "execution_count": 2
        }
      ]
    },
    {
      "cell_type": "code",
      "source": [
        "demo2 = [1,2,3,\"xyz\"]\n",
        "np.array(demo2)"
      ],
      "metadata": {
        "colab": {
          "base_uri": "https://localhost:8080/"
        },
        "id": "j8HuihDi3ZIB",
        "outputId": "e9acc8e8-f803-46af-d31b-f351ecbb2bf5"
      },
      "execution_count": 3,
      "outputs": [
        {
          "output_type": "execute_result",
          "data": {
            "text/plain": [
              "array(['1', '2', '3', 'xyz'], dtype='<U21')"
            ]
          },
          "metadata": {},
          "execution_count": 3
        }
      ]
    },
    {
      "cell_type": "code",
      "source": [
        "# Some numpy function\n",
        "\n",
        "x = np.zeros(5)\n",
        "y = np.zeros(5,int)\n",
        "print(x)\n",
        "print(y)\n",
        "\n",
        "print(x.dtype)\n",
        "print(y.dtype)\n",
        "\n",
        "a = np.ones(5)\n",
        "b = np.ones(5,int)\n",
        "print(a)\n",
        "print(b)"
      ],
      "metadata": {
        "colab": {
          "base_uri": "https://localhost:8080/"
        },
        "id": "hmCOH3Gi3h1B",
        "outputId": "be1d9afd-9f0e-4979-bdb5-291d77343173"
      },
      "execution_count": 9,
      "outputs": [
        {
          "output_type": "stream",
          "name": "stdout",
          "text": [
            "[0. 0. 0. 0. 0.]\n",
            "[0 0 0 0 0]\n",
            "float64\n",
            "int64\n",
            "[1. 1. 1. 1. 1.]\n",
            "[1 1 1 1 1]\n"
          ]
        }
      ]
    },
    {
      "cell_type": "code",
      "source": [
        "arr = np.ones((2,3),int)\n",
        "arr[1][1] = 5\n",
        "print(arr)\n",
        "print(arr[1][1])\n",
        "print(\"Shape is \",arr.shape)"
      ],
      "metadata": {
        "colab": {
          "base_uri": "https://localhost:8080/"
        },
        "id": "dJcK37Vy8lBA",
        "outputId": "5fa0f1d8-cb9a-442e-bab1-5d8013b72886"
      },
      "execution_count": 15,
      "outputs": [
        {
          "output_type": "stream",
          "name": "stdout",
          "text": [
            "[[1 1 1]\n",
            " [1 5 1]]\n",
            "5\n",
            "Shape is  (2, 3)\n"
          ]
        }
      ]
    },
    {
      "cell_type": "code",
      "source": [
        "np.ones((2,3,4),int)"
      ],
      "metadata": {
        "colab": {
          "base_uri": "https://localhost:8080/"
        },
        "id": "i5zkLwjN8_-G",
        "outputId": "40b1c9c9-6a97-47f4-a987-edb277c4a096"
      },
      "execution_count": 13,
      "outputs": [
        {
          "output_type": "execute_result",
          "data": {
            "text/plain": [
              "array([[[1, 1, 1, 1],\n",
              "        [1, 1, 1, 1],\n",
              "        [1, 1, 1, 1]],\n",
              "\n",
              "       [[1, 1, 1, 1],\n",
              "        [1, 1, 1, 1],\n",
              "        [1, 1, 1, 1]]])"
            ]
          },
          "metadata": {},
          "execution_count": 13
        }
      ]
    },
    {
      "cell_type": "code",
      "source": [
        "arr2 = np.ones(6,int)\n",
        "arr2[3] = 5\n",
        "print(arr2[3:6])"
      ],
      "metadata": {
        "colab": {
          "base_uri": "https://localhost:8080/"
        },
        "id": "XU9Is63M-Izj",
        "outputId": "8b8f7910-6538-46a8-96ec-2866b25aaef3"
      },
      "execution_count": 17,
      "outputs": [
        {
          "output_type": "stream",
          "name": "stdout",
          "text": [
            "[5 1 1]\n"
          ]
        }
      ]
    },
    {
      "cell_type": "code",
      "source": [
        "arr3 = np.array([[1,2,3],[4,5,6],[6,7,8]])\n",
        "print(arr3[1:3])\n",
        "print(arr3[:,1])\n"
      ],
      "metadata": {
        "colab": {
          "base_uri": "https://localhost:8080/"
        },
        "id": "XBp6bp_V-kFA",
        "outputId": "2dcca15d-ec36-4cc1-e1d3-dc3fbddb557b"
      },
      "execution_count": 18,
      "outputs": [
        {
          "output_type": "stream",
          "name": "stdout",
          "text": [
            "[[4 5 6]\n",
            " [6 7 8]]\n",
            "[2 5 7]\n"
          ]
        }
      ]
    },
    {
      "cell_type": "code",
      "source": [
        "c = np.array([1,2,3])\n",
        "d = np.array([7,5,6])\n",
        "\n",
        "c = c+10\n",
        "print(c)\n",
        "print(c+d)\n"
      ],
      "metadata": {
        "colab": {
          "base_uri": "https://localhost:8080/"
        },
        "id": "y9n5j79LAzno",
        "outputId": "e4b36ee1-f519-498b-9d00-ab7bbae2f23c"
      },
      "execution_count": 24,
      "outputs": [
        {
          "output_type": "stream",
          "name": "stdout",
          "text": [
            "[11 12 13]\n",
            "[18 17 19]\n"
          ]
        }
      ]
    },
    {
      "cell_type": "code",
      "source": [
        "print(d.mean())\n",
        "print(d.sum())"
      ],
      "metadata": {
        "colab": {
          "base_uri": "https://localhost:8080/"
        },
        "id": "Zlx4Ab1qBCz5",
        "outputId": "6a4cdd93-27a3-4b42-e8eb-84e63565d7a6"
      },
      "execution_count": 25,
      "outputs": [
        {
          "output_type": "stream",
          "name": "stdout",
          "text": [
            "6.0\n",
            "18\n"
          ]
        }
      ]
    },
    {
      "cell_type": "code",
      "source": [
        "# Findind distance between two points p1 and p2\n",
        "p1 = np.array([2,2,2])\n",
        "p2 = np.array([1,1,1])\n",
        "\n",
        "val = ((p1 - p2)**2).sum()\n",
        "\n",
        "print(m.sqrt(val))\n",
        "\n",
        "#dot product\n",
        "print(p1.dot(p2))"
      ],
      "metadata": {
        "colab": {
          "base_uri": "https://localhost:8080/"
        },
        "id": "8AY8yVKIDb0U",
        "outputId": "eacabc66-dd37-42c5-d328-b679a811cc95"
      },
      "execution_count": 28,
      "outputs": [
        {
          "output_type": "stream",
          "name": "stdout",
          "text": [
            "1.7320508075688772\n",
            "6\n"
          ]
        }
      ]
    }
  ]
}